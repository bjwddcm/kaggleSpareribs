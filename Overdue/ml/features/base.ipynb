{
 "cells": [
  {
   "cell_type": "markdown",
   "metadata": {},
   "source": [
    "# 逻辑回归预测贷款用户是否会逾期\n",
    "\n",
    "\n",
    "我们提升算法实践能力的【整个思路】是这样的：构建模型——>模型融合——>模型评估——>交叉验证——>模型调参——>特征工程。【遵循】一次只做一件事，【先做再优化】的思路。每一个过程在完成任务的前提下，都可以拓展学习。【期望目标】掌握数据挖掘的流程，提升合作的能力。各位已经有经验，尤其是辅助的助教，还请多指导\n",
    "\n",
    "\n",
    "给大家的是金融数据，我们要做的是预测贷款用户是否会逾期，表格中，status是标签：0表示未逾期，1表示逾期。【第一个任务】构建逻辑回归模型进行预测（在构建部分数据需要进行缺失值处理和数据类型转换，如果不能处理，可以直接暴力删除）【完成时间】11.14-11.15"
   ]
  },
  {
   "cell_type": "markdown",
   "metadata": {},
   "source": [
    "# 1 环境准备 "
   ]
  },
  {
   "cell_type": "markdown",
   "metadata": {},
   "source": [
    "## 1.1 导入所需的数据包"
   ]
  },
  {
   "cell_type": "markdown",
   "metadata": {},
   "source": [
    "参考文档：\n",
    "https://www.cnblogs.com/jin-liang/p/9011771.html"
   ]
  },
  {
   "cell_type": "code",
   "execution_count": 1,
   "metadata": {
    "ExecuteTime": {
     "end_time": "2018-11-22T12:45:05.388234Z",
     "start_time": "2018-11-22T12:45:01.953967Z"
    }
   },
   "outputs": [],
   "source": [
    "import numpy as np\n",
    "import pandas as pd\n",
    "import matplotlib.pyplot as plt\n",
    "from sklearn.preprocessing import StandardScaler, MinMaxScaler\n",
    "from sklearn.linear_model import LogisticRegression\n",
    "from sklearn.svm import LinearSVC\n",
    "from sklearn.tree import DecisionTreeClassifier\n",
    "from sklearn.linear_model import SGDClassifier\n",
    "from sklearn.metrics import f1_score,r2_score\n",
    "import seaborn as sns\n",
    "# 去除 warnings 的警告\n",
    "import warnings\n",
    "warnings.filterwarnings('ignore')\n",
    "\n",
    "# 设置显示窗口的大小\n",
    "pd.set_option('display.max_row', 1000)\n",
    "pd.set_option('display.max_columns', 10000)\n",
    "pd.set_option('display.width', 10000)"
   ]
  },
  {
   "cell_type": "code",
   "execution_count": 2,
   "metadata": {
    "ExecuteTime": {
     "end_time": "2018-11-22T12:45:05.510307Z",
     "start_time": "2018-11-22T12:45:05.390235Z"
    }
   },
   "outputs": [
    {
     "name": "stdout",
     "output_type": "stream",
     "text": [
      "Wall time: 110 ms\n"
     ]
    }
   ],
   "source": [
    "%%time\n",
    "# 读取数据\n",
    "PATH = \"D:/SoftwareData/Database/jinrong\"\n",
    "# 问题1：dtype=object使用的问题\n",
    "# train = pd.read_csv('{0}/data.csv'.format(PATH), encoding='gbk', dtype=object)  # 取消 dtype=object 的使用\n",
    "train = pd.read_csv('{0}/data.csv'.format(PATH), encoding='gbk')"
   ]
  },
  {
   "cell_type": "markdown",
   "metadata": {},
   "source": [
    "# 2 特征工程"
   ]
  },
  {
   "cell_type": "markdown",
   "metadata": {},
   "source": [
    "## 2.1 确认目前数据量和预测数据占比"
   ]
  },
  {
   "cell_type": "code",
   "execution_count": 3,
   "metadata": {
    "ExecuteTime": {
     "end_time": "2018-11-22T12:45:05.519304Z",
     "start_time": "2018-11-22T12:45:05.512300Z"
    }
   },
   "outputs": [
    {
     "data": {
      "text/plain": [
       "(4754, 90)"
      ]
     },
     "execution_count": 3,
     "metadata": {},
     "output_type": "execute_result"
    }
   ],
   "source": [
    "# 确认数据量\n",
    "train.shape"
   ]
  },
  {
   "cell_type": "code",
   "execution_count": 4,
   "metadata": {
    "ExecuteTime": {
     "end_time": "2018-11-22T12:45:05.584348Z",
     "start_time": "2018-11-22T12:45:05.521305Z"
    }
   },
   "outputs": [
    {
     "name": "stdout",
     "output_type": "stream",
     "text": [
      "当前数据占比如下 ******************** : \n"
     ]
    },
    {
     "data": {
      "text/html": [
       "<div>\n",
       "<style scoped>\n",
       "    .dataframe tbody tr th:only-of-type {\n",
       "        vertical-align: middle;\n",
       "    }\n",
       "\n",
       "    .dataframe tbody tr th {\n",
       "        vertical-align: top;\n",
       "    }\n",
       "\n",
       "    .dataframe thead th {\n",
       "        text-align: right;\n",
       "    }\n",
       "</style>\n",
       "<table border=\"1\" class=\"dataframe\">\n",
       "  <thead>\n",
       "    <tr style=\"text-align: right;\">\n",
       "      <th></th>\n",
       "      <th>Unnamed: 0</th>\n",
       "      <th>custid</th>\n",
       "      <th>trade_no</th>\n",
       "      <th>bank_card_no</th>\n",
       "      <th>low_volume_percent</th>\n",
       "      <th>middle_volume_percent</th>\n",
       "      <th>take_amount_in_later_12_month_highest</th>\n",
       "      <th>trans_amount_increase_rate_lately</th>\n",
       "      <th>trans_activity_month</th>\n",
       "      <th>trans_activity_day</th>\n",
       "      <th>transd_mcc</th>\n",
       "      <th>trans_days_interval_filter</th>\n",
       "      <th>trans_days_interval</th>\n",
       "      <th>regional_mobility</th>\n",
       "      <th>student_feature</th>\n",
       "      <th>repayment_capability</th>\n",
       "      <th>is_high_user</th>\n",
       "      <th>number_of_trans_from_2011</th>\n",
       "      <th>first_transaction_time</th>\n",
       "      <th>historical_trans_amount</th>\n",
       "      <th>historical_trans_day</th>\n",
       "      <th>rank_trad_1_month</th>\n",
       "      <th>trans_amount_3_month</th>\n",
       "      <th>avg_consume_less_12_valid_month</th>\n",
       "      <th>abs</th>\n",
       "      <th>top_trans_count_last_1_month</th>\n",
       "      <th>avg_price_last_12_month</th>\n",
       "      <th>avg_price_top_last_12_valid_month</th>\n",
       "      <th>reg_preference_for_trad</th>\n",
       "      <th>trans_top_time_last_1_month</th>\n",
       "      <th>trans_top_time_last_6_month</th>\n",
       "      <th>consume_top_time_last_1_month</th>\n",
       "      <th>consume_top_time_last_6_month</th>\n",
       "      <th>cross_consume_count_last_1_month</th>\n",
       "      <th>trans_fail_top_count_enum_last_1_month</th>\n",
       "      <th>trans_fail_top_count_enum_last_6_month</th>\n",
       "      <th>trans_fail_top_count_enum_last_12_month</th>\n",
       "      <th>consume_mini_time_last_1_month</th>\n",
       "      <th>max_cumulative_consume_later_1_month</th>\n",
       "      <th>max_consume_count_later_6_month</th>\n",
       "      <th>railway_consume_count_last_12_month</th>\n",
       "      <th>pawns_auctions_trusts_consume_last_1_month</th>\n",
       "      <th>pawns_auctions_trusts_consume_last_6_month</th>\n",
       "      <th>jewelry_consume_count_last_6_month</th>\n",
       "      <th>source</th>\n",
       "      <th>first_transaction_day</th>\n",
       "      <th>trans_day_last_12_month</th>\n",
       "      <th>id_name</th>\n",
       "      <th>apply_score</th>\n",
       "      <th>apply_credibility</th>\n",
       "      <th>query_org_count</th>\n",
       "      <th>query_finance_count</th>\n",
       "      <th>query_cash_count</th>\n",
       "      <th>query_sum_count</th>\n",
       "      <th>latest_query_time</th>\n",
       "      <th>latest_one_month_apply</th>\n",
       "      <th>latest_three_month_apply</th>\n",
       "      <th>latest_six_month_apply</th>\n",
       "      <th>loans_score</th>\n",
       "      <th>loans_credibility_behavior</th>\n",
       "      <th>loans_count</th>\n",
       "      <th>loans_settle_count</th>\n",
       "      <th>loans_overdue_count</th>\n",
       "      <th>loans_org_count_behavior</th>\n",
       "      <th>consfin_org_count_behavior</th>\n",
       "      <th>loans_cash_count</th>\n",
       "      <th>latest_one_month_loan</th>\n",
       "      <th>latest_three_month_loan</th>\n",
       "      <th>latest_six_month_loan</th>\n",
       "      <th>history_suc_fee</th>\n",
       "      <th>history_fail_fee</th>\n",
       "      <th>latest_one_month_suc</th>\n",
       "      <th>latest_one_month_fail</th>\n",
       "      <th>loans_long_time</th>\n",
       "      <th>loans_latest_time</th>\n",
       "      <th>loans_credit_limit</th>\n",
       "      <th>loans_credibility_limit</th>\n",
       "      <th>loans_org_count_current</th>\n",
       "      <th>loans_product_count</th>\n",
       "      <th>loans_max_limit</th>\n",
       "      <th>loans_avg_limit</th>\n",
       "      <th>consfin_credit_limit</th>\n",
       "      <th>consfin_credibility</th>\n",
       "      <th>consfin_org_count_current</th>\n",
       "      <th>consfin_product_count</th>\n",
       "      <th>consfin_max_limit</th>\n",
       "      <th>consfin_avg_limit</th>\n",
       "      <th>latest_query_day</th>\n",
       "      <th>loans_latest_day</th>\n",
       "    </tr>\n",
       "    <tr>\n",
       "      <th>status</th>\n",
       "      <th></th>\n",
       "      <th></th>\n",
       "      <th></th>\n",
       "      <th></th>\n",
       "      <th></th>\n",
       "      <th></th>\n",
       "      <th></th>\n",
       "      <th></th>\n",
       "      <th></th>\n",
       "      <th></th>\n",
       "      <th></th>\n",
       "      <th></th>\n",
       "      <th></th>\n",
       "      <th></th>\n",
       "      <th></th>\n",
       "      <th></th>\n",
       "      <th></th>\n",
       "      <th></th>\n",
       "      <th></th>\n",
       "      <th></th>\n",
       "      <th></th>\n",
       "      <th></th>\n",
       "      <th></th>\n",
       "      <th></th>\n",
       "      <th></th>\n",
       "      <th></th>\n",
       "      <th></th>\n",
       "      <th></th>\n",
       "      <th></th>\n",
       "      <th></th>\n",
       "      <th></th>\n",
       "      <th></th>\n",
       "      <th></th>\n",
       "      <th></th>\n",
       "      <th></th>\n",
       "      <th></th>\n",
       "      <th></th>\n",
       "      <th></th>\n",
       "      <th></th>\n",
       "      <th></th>\n",
       "      <th></th>\n",
       "      <th></th>\n",
       "      <th></th>\n",
       "      <th></th>\n",
       "      <th></th>\n",
       "      <th></th>\n",
       "      <th></th>\n",
       "      <th></th>\n",
       "      <th></th>\n",
       "      <th></th>\n",
       "      <th></th>\n",
       "      <th></th>\n",
       "      <th></th>\n",
       "      <th></th>\n",
       "      <th></th>\n",
       "      <th></th>\n",
       "      <th></th>\n",
       "      <th></th>\n",
       "      <th></th>\n",
       "      <th></th>\n",
       "      <th></th>\n",
       "      <th></th>\n",
       "      <th></th>\n",
       "      <th></th>\n",
       "      <th></th>\n",
       "      <th></th>\n",
       "      <th></th>\n",
       "      <th></th>\n",
       "      <th></th>\n",
       "      <th></th>\n",
       "      <th></th>\n",
       "      <th></th>\n",
       "      <th></th>\n",
       "      <th></th>\n",
       "      <th></th>\n",
       "      <th></th>\n",
       "      <th></th>\n",
       "      <th></th>\n",
       "      <th></th>\n",
       "      <th></th>\n",
       "      <th></th>\n",
       "      <th></th>\n",
       "      <th></th>\n",
       "      <th></th>\n",
       "      <th></th>\n",
       "      <th></th>\n",
       "      <th></th>\n",
       "      <th></th>\n",
       "      <th></th>\n",
       "    </tr>\n",
       "  </thead>\n",
       "  <tbody>\n",
       "    <tr>\n",
       "      <th>0</th>\n",
       "      <td>3561</td>\n",
       "      <td>3561</td>\n",
       "      <td>3561</td>\n",
       "      <td>3561</td>\n",
       "      <td>3559</td>\n",
       "      <td>3559</td>\n",
       "      <td>3561</td>\n",
       "      <td>3558</td>\n",
       "      <td>3559</td>\n",
       "      <td>3559</td>\n",
       "      <td>3559</td>\n",
       "      <td>3554</td>\n",
       "      <td>3559</td>\n",
       "      <td>3559</td>\n",
       "      <td>1307</td>\n",
       "      <td>3561</td>\n",
       "      <td>3561</td>\n",
       "      <td>3559</td>\n",
       "      <td>3559</td>\n",
       "      <td>3561</td>\n",
       "      <td>3559</td>\n",
       "      <td>3559</td>\n",
       "      <td>3561</td>\n",
       "      <td>3559</td>\n",
       "      <td>3561</td>\n",
       "      <td>3559</td>\n",
       "      <td>3561</td>\n",
       "      <td>3481</td>\n",
       "      <td>3559</td>\n",
       "      <td>3554</td>\n",
       "      <td>3554</td>\n",
       "      <td>3554</td>\n",
       "      <td>3554</td>\n",
       "      <td>3242</td>\n",
       "      <td>3545</td>\n",
       "      <td>3545</td>\n",
       "      <td>3545</td>\n",
       "      <td>3540</td>\n",
       "      <td>3561</td>\n",
       "      <td>3554</td>\n",
       "      <td>3551</td>\n",
       "      <td>3561</td>\n",
       "      <td>3561</td>\n",
       "      <td>3551</td>\n",
       "      <td>3561</td>\n",
       "      <td>3559</td>\n",
       "      <td>3559</td>\n",
       "      <td>3352</td>\n",
       "      <td>3331</td>\n",
       "      <td>3331</td>\n",
       "      <td>3331</td>\n",
       "      <td>3331</td>\n",
       "      <td>3331</td>\n",
       "      <td>3331</td>\n",
       "      <td>3331</td>\n",
       "      <td>3331</td>\n",
       "      <td>3331</td>\n",
       "      <td>3331</td>\n",
       "      <td>3336</td>\n",
       "      <td>3336</td>\n",
       "      <td>3336</td>\n",
       "      <td>3336</td>\n",
       "      <td>3336</td>\n",
       "      <td>3336</td>\n",
       "      <td>3336</td>\n",
       "      <td>3336</td>\n",
       "      <td>3336</td>\n",
       "      <td>3336</td>\n",
       "      <td>3336</td>\n",
       "      <td>3336</td>\n",
       "      <td>3336</td>\n",
       "      <td>3336</td>\n",
       "      <td>3336</td>\n",
       "      <td>3336</td>\n",
       "      <td>3336</td>\n",
       "      <td>3336</td>\n",
       "      <td>3336</td>\n",
       "      <td>3336</td>\n",
       "      <td>3336</td>\n",
       "      <td>3336</td>\n",
       "      <td>3336</td>\n",
       "      <td>3336</td>\n",
       "      <td>3336</td>\n",
       "      <td>3336</td>\n",
       "      <td>3336</td>\n",
       "      <td>3336</td>\n",
       "      <td>3336</td>\n",
       "      <td>3331</td>\n",
       "      <td>3336</td>\n",
       "    </tr>\n",
       "    <tr>\n",
       "      <th>1</th>\n",
       "      <td>1193</td>\n",
       "      <td>1193</td>\n",
       "      <td>1193</td>\n",
       "      <td>1193</td>\n",
       "      <td>1193</td>\n",
       "      <td>1193</td>\n",
       "      <td>1193</td>\n",
       "      <td>1193</td>\n",
       "      <td>1193</td>\n",
       "      <td>1193</td>\n",
       "      <td>1193</td>\n",
       "      <td>1192</td>\n",
       "      <td>1193</td>\n",
       "      <td>1193</td>\n",
       "      <td>449</td>\n",
       "      <td>1193</td>\n",
       "      <td>1193</td>\n",
       "      <td>1193</td>\n",
       "      <td>1193</td>\n",
       "      <td>1193</td>\n",
       "      <td>1193</td>\n",
       "      <td>1193</td>\n",
       "      <td>1193</td>\n",
       "      <td>1193</td>\n",
       "      <td>1193</td>\n",
       "      <td>1193</td>\n",
       "      <td>1193</td>\n",
       "      <td>1169</td>\n",
       "      <td>1193</td>\n",
       "      <td>1192</td>\n",
       "      <td>1192</td>\n",
       "      <td>1192</td>\n",
       "      <td>1192</td>\n",
       "      <td>1086</td>\n",
       "      <td>1193</td>\n",
       "      <td>1193</td>\n",
       "      <td>1193</td>\n",
       "      <td>1188</td>\n",
       "      <td>1193</td>\n",
       "      <td>1192</td>\n",
       "      <td>1191</td>\n",
       "      <td>1193</td>\n",
       "      <td>1193</td>\n",
       "      <td>1191</td>\n",
       "      <td>1193</td>\n",
       "      <td>1193</td>\n",
       "      <td>1193</td>\n",
       "      <td>1126</td>\n",
       "      <td>1119</td>\n",
       "      <td>1119</td>\n",
       "      <td>1119</td>\n",
       "      <td>1119</td>\n",
       "      <td>1119</td>\n",
       "      <td>1119</td>\n",
       "      <td>1119</td>\n",
       "      <td>1119</td>\n",
       "      <td>1119</td>\n",
       "      <td>1119</td>\n",
       "      <td>1121</td>\n",
       "      <td>1121</td>\n",
       "      <td>1121</td>\n",
       "      <td>1121</td>\n",
       "      <td>1121</td>\n",
       "      <td>1121</td>\n",
       "      <td>1121</td>\n",
       "      <td>1121</td>\n",
       "      <td>1121</td>\n",
       "      <td>1121</td>\n",
       "      <td>1121</td>\n",
       "      <td>1121</td>\n",
       "      <td>1121</td>\n",
       "      <td>1121</td>\n",
       "      <td>1121</td>\n",
       "      <td>1121</td>\n",
       "      <td>1121</td>\n",
       "      <td>1121</td>\n",
       "      <td>1121</td>\n",
       "      <td>1121</td>\n",
       "      <td>1121</td>\n",
       "      <td>1121</td>\n",
       "      <td>1121</td>\n",
       "      <td>1121</td>\n",
       "      <td>1121</td>\n",
       "      <td>1121</td>\n",
       "      <td>1121</td>\n",
       "      <td>1121</td>\n",
       "      <td>1121</td>\n",
       "      <td>1119</td>\n",
       "      <td>1121</td>\n",
       "    </tr>\n",
       "  </tbody>\n",
       "</table>\n",
       "</div>"
      ],
      "text/plain": [
       "        Unnamed: 0  custid  trade_no  bank_card_no  low_volume_percent  middle_volume_percent  take_amount_in_later_12_month_highest  trans_amount_increase_rate_lately  trans_activity_month  trans_activity_day  transd_mcc  trans_days_interval_filter  trans_days_interval  regional_mobility  student_feature  repayment_capability  is_high_user  number_of_trans_from_2011  first_transaction_time  historical_trans_amount  historical_trans_day  rank_trad_1_month  trans_amount_3_month  avg_consume_less_12_valid_month   abs  top_trans_count_last_1_month  avg_price_last_12_month  avg_price_top_last_12_valid_month  reg_preference_for_trad  trans_top_time_last_1_month  trans_top_time_last_6_month  consume_top_time_last_1_month  consume_top_time_last_6_month  cross_consume_count_last_1_month  trans_fail_top_count_enum_last_1_month  trans_fail_top_count_enum_last_6_month  trans_fail_top_count_enum_last_12_month  consume_mini_time_last_1_month  max_cumulative_consume_later_1_month  max_consume_count_later_6_month  railway_consume_count_last_12_month  pawns_auctions_trusts_consume_last_1_month  pawns_auctions_trusts_consume_last_6_month  jewelry_consume_count_last_6_month  source  first_transaction_day  trans_day_last_12_month  id_name  apply_score  apply_credibility  query_org_count  query_finance_count  query_cash_count  query_sum_count  latest_query_time  latest_one_month_apply  latest_three_month_apply  latest_six_month_apply  loans_score  loans_credibility_behavior  loans_count  loans_settle_count  loans_overdue_count  loans_org_count_behavior  consfin_org_count_behavior  loans_cash_count  latest_one_month_loan  latest_three_month_loan  latest_six_month_loan  history_suc_fee  history_fail_fee  latest_one_month_suc  latest_one_month_fail  loans_long_time  loans_latest_time  loans_credit_limit  loans_credibility_limit  loans_org_count_current  loans_product_count  loans_max_limit  loans_avg_limit  consfin_credit_limit  consfin_credibility  consfin_org_count_current  consfin_product_count  consfin_max_limit  consfin_avg_limit  latest_query_day  loans_latest_day\n",
       "status                                                                                                                                                                                                                                                                                                                                                                                                                                                                                                                                                                                                                                                                                                                                                                                                                                                                                                                                                                                                                                                                                                                                                                                                                                                                                                                                                                                                                                                                                                                                                                                                                                                                                                                                                                                                                                                                                                                                                                                                                                                                                                                                                             \n",
       "0             3561    3561      3561          3561                3559                   3559                                   3561                               3558                  3559                3559        3559                        3554                 3559               3559             1307                  3561          3561                       3559                    3559                     3561                  3559               3559                  3561                             3559  3561                          3559                     3561                               3481                     3559                         3554                         3554                           3554                           3554                              3242                                    3545                                    3545                                     3545                            3540                                  3561                             3554                                 3551                                        3561                                        3561                                3551    3561                   3559                     3559     3352         3331               3331             3331                 3331              3331             3331               3331                    3331                      3331                    3331         3336                        3336         3336                3336                 3336                      3336                        3336              3336                   3336                     3336                   3336             3336              3336                  3336                   3336             3336               3336                3336                     3336                     3336                 3336             3336             3336                  3336                 3336                       3336                   3336               3336               3336              3331              3336\n",
       "1             1193    1193      1193          1193                1193                   1193                                   1193                               1193                  1193                1193        1193                        1192                 1193               1193              449                  1193          1193                       1193                    1193                     1193                  1193               1193                  1193                             1193  1193                          1193                     1193                               1169                     1193                         1192                         1192                           1192                           1192                              1086                                    1193                                    1193                                     1193                            1188                                  1193                             1192                                 1191                                        1193                                        1193                                1191    1193                   1193                     1193     1126         1119               1119             1119                 1119              1119             1119               1119                    1119                      1119                    1119         1121                        1121         1121                1121                 1121                      1121                        1121              1121                   1121                     1121                   1121             1121              1121                  1121                   1121             1121               1121                1121                     1121                     1121                 1121             1121             1121                  1121                 1121                       1121                   1121               1121               1121              1119              1121"
      ]
     },
     "execution_count": 4,
     "metadata": {},
     "output_type": "execute_result"
    }
   ],
   "source": [
    "# 统计 逾期 和 没有逾期 的数据占比\n",
    "# 0表示未逾期，1表示逾期 占比 3561: 1193\n",
    "print(u\"当前数据占比如下 {0} : \".format(\"*\" * 20))\n",
    "train.groupby(['status']).count()"
   ]
  },
  {
   "cell_type": "markdown",
   "metadata": {},
   "source": [
    "## 2.2 去掉一部分对结果没有影响的数据"
   ]
  },
  {
   "cell_type": "markdown",
   "metadata": {},
   "source": [
    "从结果看，不难发现这五组数据对预测结果是没有影响的\n",
    "- 只有一个值，没有区分度\n",
    "    - bank_card_no:\n",
    "    - source\n",
    "- 与预测值无关，数据总共 4754，然后不相同的值4754个\n",
    "    - trade_no\n",
    "    - custid\n",
    "    - Unnamed: 0"
   ]
  },
  {
   "cell_type": "code",
   "execution_count": 5,
   "metadata": {
    "ExecuteTime": {
     "end_time": "2018-11-22T12:45:05.641384Z",
     "start_time": "2018-11-22T12:45:05.586348Z"
    }
   },
   "outputs": [
    {
     "name": "stdout",
     "output_type": "stream",
     "text": [
      "Unnamed: 0\n",
      "custid\n",
      "trade_no\n",
      "bank_card_no\n",
      "source\n"
     ]
    }
   ],
   "source": [
    "def unique_drop(data):\n",
    "    \"\"\" \n",
    "    1. count 跟 unique 一样，需要删除\n",
    "    2. count 跟 unique 不一样，只有单一值也是要删除\n",
    "    3. count 跟 unique 不一样，但是 nan统计后，count 跟 unique 一样 也需要删除\n",
    "    \"\"\"\n",
    "    for col in data.columns:\n",
    "        count = len(list(data[col].unique()))\n",
    "        if count == 1 or count == data.shape[0]:\n",
    "            print(col)\n",
    "            train.drop([col], inplace=True, axis=1)\n",
    "\n",
    "unique_drop(train)"
   ]
  },
  {
   "cell_type": "code",
   "execution_count": 6,
   "metadata": {
    "ExecuteTime": {
     "end_time": "2018-11-22T12:45:05.647389Z",
     "start_time": "2018-11-22T12:45:05.643386Z"
    }
   },
   "outputs": [],
   "source": [
    "# 查看数据的类型\n",
    "# train.info()"
   ]
  },
  {
   "cell_type": "markdown",
   "metadata": {},
   "source": [
    "## 2.3 字符型特征"
   ]
  },
  {
   "cell_type": "code",
   "execution_count": 7,
   "metadata": {
    "ExecuteTime": {
     "end_time": "2018-11-22T12:45:05.667402Z",
     "start_time": "2018-11-22T12:45:05.650390Z"
    }
   },
   "outputs": [
    {
     "name": "stdout",
     "output_type": "stream",
     "text": [
      "<class 'pandas.core.frame.DataFrame'>\n",
      "RangeIndex: 4754 entries, 0 to 4753\n",
      "Data columns (total 4 columns):\n",
      "reg_preference_for_trad    4752 non-null object\n",
      "id_name                    4478 non-null object\n",
      "latest_query_time          4450 non-null object\n",
      "loans_latest_time          4457 non-null object\n",
      "dtypes: object(4)\n",
      "memory usage: 148.6+ KB\n"
     ]
    }
   ],
   "source": [
    "train_object = train.select_dtypes('object').copy()\n",
    "train_object.info()"
   ]
  },
  {
   "cell_type": "code",
   "execution_count": 8,
   "metadata": {
    "ExecuteTime": {
     "end_time": "2018-11-22T12:45:05.682412Z",
     "start_time": "2018-11-22T12:45:05.669403Z"
    }
   },
   "outputs": [
    {
     "data": {
      "text/html": [
       "<div>\n",
       "<style scoped>\n",
       "    .dataframe tbody tr th:only-of-type {\n",
       "        vertical-align: middle;\n",
       "    }\n",
       "\n",
       "    .dataframe tbody tr th {\n",
       "        vertical-align: top;\n",
       "    }\n",
       "\n",
       "    .dataframe thead th {\n",
       "        text-align: right;\n",
       "    }\n",
       "</style>\n",
       "<table border=\"1\" class=\"dataframe\">\n",
       "  <thead>\n",
       "    <tr style=\"text-align: right;\">\n",
       "      <th></th>\n",
       "      <th>reg_preference_for_trad</th>\n",
       "      <th>id_name</th>\n",
       "      <th>latest_query_time</th>\n",
       "      <th>loans_latest_time</th>\n",
       "    </tr>\n",
       "  </thead>\n",
       "  <tbody>\n",
       "    <tr>\n",
       "      <th>0</th>\n",
       "      <td>一线城市</td>\n",
       "      <td>蒋红</td>\n",
       "      <td>2018-04-25</td>\n",
       "      <td>2018-04-19</td>\n",
       "    </tr>\n",
       "    <tr>\n",
       "      <th>1</th>\n",
       "      <td>一线城市</td>\n",
       "      <td>崔向朝</td>\n",
       "      <td>2018-05-03</td>\n",
       "      <td>2018-05-05</td>\n",
       "    </tr>\n",
       "  </tbody>\n",
       "</table>\n",
       "</div>"
      ],
      "text/plain": [
       "  reg_preference_for_trad id_name latest_query_time loans_latest_time\n",
       "0                    一线城市      蒋红        2018-04-25        2018-04-19\n",
       "1                    一线城市     崔向朝        2018-05-03        2018-05-05"
      ]
     },
     "execution_count": 8,
     "metadata": {},
     "output_type": "execute_result"
    }
   ],
   "source": [
    "train_object.head(2)"
   ]
  },
  {
   "cell_type": "code",
   "execution_count": 9,
   "metadata": {
    "ExecuteTime": {
     "end_time": "2018-11-22T12:45:05.711430Z",
     "start_time": "2018-11-22T12:45:05.684413Z"
    }
   },
   "outputs": [
    {
     "data": {
      "text/html": [
       "<div>\n",
       "<style scoped>\n",
       "    .dataframe tbody tr th:only-of-type {\n",
       "        vertical-align: middle;\n",
       "    }\n",
       "\n",
       "    .dataframe tbody tr th {\n",
       "        vertical-align: top;\n",
       "    }\n",
       "\n",
       "    .dataframe thead th {\n",
       "        text-align: right;\n",
       "    }\n",
       "</style>\n",
       "<table border=\"1\" class=\"dataframe\">\n",
       "  <thead>\n",
       "    <tr style=\"text-align: right;\">\n",
       "      <th></th>\n",
       "      <th>reg_preference_for_trad</th>\n",
       "      <th>id_name</th>\n",
       "      <th>latest_query_time</th>\n",
       "      <th>loans_latest_time</th>\n",
       "    </tr>\n",
       "  </thead>\n",
       "  <tbody>\n",
       "    <tr>\n",
       "      <th>count</th>\n",
       "      <td>4752</td>\n",
       "      <td>4478</td>\n",
       "      <td>4450</td>\n",
       "      <td>4457</td>\n",
       "    </tr>\n",
       "    <tr>\n",
       "      <th>unique</th>\n",
       "      <td>5</td>\n",
       "      <td>4309</td>\n",
       "      <td>207</td>\n",
       "      <td>232</td>\n",
       "    </tr>\n",
       "    <tr>\n",
       "      <th>top</th>\n",
       "      <td>一线城市</td>\n",
       "      <td>张龙</td>\n",
       "      <td>2018-04-14</td>\n",
       "      <td>2018-05-03</td>\n",
       "    </tr>\n",
       "    <tr>\n",
       "      <th>freq</th>\n",
       "      <td>3403</td>\n",
       "      <td>5</td>\n",
       "      <td>423</td>\n",
       "      <td>134</td>\n",
       "    </tr>\n",
       "  </tbody>\n",
       "</table>\n",
       "</div>"
      ],
      "text/plain": [
       "       reg_preference_for_trad id_name latest_query_time loans_latest_time\n",
       "count                     4752    4478              4450              4457\n",
       "unique                       5    4309               207               232\n",
       "top                       一线城市      张龙        2018-04-14        2018-05-03\n",
       "freq                      3403       5               423               134"
      ]
     },
     "execution_count": 9,
     "metadata": {},
     "output_type": "execute_result"
    }
   ],
   "source": [
    "train_object.describe()"
   ]
  },
  {
   "cell_type": "code",
   "execution_count": 10,
   "metadata": {
    "ExecuteTime": {
     "end_time": "2018-11-22T12:45:05.717434Z",
     "start_time": "2018-11-22T12:45:05.712431Z"
    }
   },
   "outputs": [],
   "source": [
    "def missing_count(train, feature):\n",
    "    \"\"\"\n",
    "    1. 统计缺失值\n",
    "    2. 统计unique\n",
    "    \"\"\"\n",
    "    all_count = len(train)\n",
    "    missing = len(train[feature][pd.isnull(train[feature])])\n",
    "    unique_object = list(train[feature].unique())\n",
    "    print(\"缺失{1:>4}个  缺失率 {4:.2f}% 有{2:>4}个值 分别为 {3}等\".format(all_count, missing, len(unique_object),unique_object[:7], missing/all_count, feature))"
   ]
  },
  {
   "cell_type": "code",
   "execution_count": 11,
   "metadata": {
    "ExecuteTime": {
     "end_time": "2018-11-22T12:45:05.742451Z",
     "start_time": "2018-11-22T12:45:05.719436Z"
    }
   },
   "outputs": [
    {
     "name": "stdout",
     "output_type": "stream",
     "text": [
      "缺失   2个  缺失率 0.00% 有   6个值 分别为 ['一线城市', '三线城市', '境外', '二线城市', '其他城市', nan]等\n",
      "缺失 276个  缺失率 0.06% 有4310个值 分别为 ['蒋红', '崔向朝', '王中云', '何洋洋', '赵洋', '刘成', '周雨浓']等\n"
     ]
    }
   ],
   "source": [
    "missing_count(train_object,\"reg_preference_for_trad\")\n",
    "missing_count(train_object,\"id_name\")"
   ]
  },
  {
   "cell_type": "markdown",
   "metadata": {},
   "source": [
    "1. reg_preference_for_trad: 城市,使用0来填充 用 one-hot 编码\n",
    "2. id_name：名字，理论上需要对相同名字的人进行归类, 这种做法先搁置了, 没想到更好的解决方法，先删除这一列数据\n",
    "3. latest_query_time和loans_latest_time 当作时间特征来处理"
   ]
  },
  {
   "cell_type": "code",
   "execution_count": 12,
   "metadata": {
    "ExecuteTime": {
     "end_time": "2018-11-22T12:45:05.767467Z",
     "start_time": "2018-11-22T12:45:05.745453Z"
    }
   },
   "outputs": [
    {
     "data": {
      "text/html": [
       "<div>\n",
       "<style scoped>\n",
       "    .dataframe tbody tr th:only-of-type {\n",
       "        vertical-align: middle;\n",
       "    }\n",
       "\n",
       "    .dataframe tbody tr th {\n",
       "        vertical-align: top;\n",
       "    }\n",
       "\n",
       "    .dataframe thead th {\n",
       "        text-align: right;\n",
       "    }\n",
       "</style>\n",
       "<table border=\"1\" class=\"dataframe\">\n",
       "  <thead>\n",
       "    <tr style=\"text-align: right;\">\n",
       "      <th></th>\n",
       "      <th>reg_preference_for_trad</th>\n",
       "      <th>id_name</th>\n",
       "      <th>latest_query_time</th>\n",
       "      <th>loans_latest_time</th>\n",
       "    </tr>\n",
       "  </thead>\n",
       "  <tbody>\n",
       "    <tr>\n",
       "      <th>count</th>\n",
       "      <td>4752</td>\n",
       "      <td>4478</td>\n",
       "      <td>4450</td>\n",
       "      <td>4457</td>\n",
       "    </tr>\n",
       "    <tr>\n",
       "      <th>unique</th>\n",
       "      <td>5</td>\n",
       "      <td>4309</td>\n",
       "      <td>207</td>\n",
       "      <td>232</td>\n",
       "    </tr>\n",
       "    <tr>\n",
       "      <th>top</th>\n",
       "      <td>一线城市</td>\n",
       "      <td>张龙</td>\n",
       "      <td>2018-04-14</td>\n",
       "      <td>2018-05-03</td>\n",
       "    </tr>\n",
       "    <tr>\n",
       "      <th>freq</th>\n",
       "      <td>3403</td>\n",
       "      <td>5</td>\n",
       "      <td>423</td>\n",
       "      <td>134</td>\n",
       "    </tr>\n",
       "  </tbody>\n",
       "</table>\n",
       "</div>"
      ],
      "text/plain": [
       "       reg_preference_for_trad id_name latest_query_time loans_latest_time\n",
       "count                     4752    4478              4450              4457\n",
       "unique                       5    4309               207               232\n",
       "top                       一线城市      张龙        2018-04-14        2018-05-03\n",
       "freq                      3403       5               423               134"
      ]
     },
     "execution_count": 12,
     "metadata": {},
     "output_type": "execute_result"
    }
   ],
   "source": [
    "train_object.describe()"
   ]
  },
  {
   "cell_type": "code",
   "execution_count": 13,
   "metadata": {
    "ExecuteTime": {
     "end_time": "2018-11-22T12:45:05.779475Z",
     "start_time": "2018-11-22T12:45:05.769470Z"
    }
   },
   "outputs": [],
   "source": [
    "# 缺失值2个，用众数填充\n",
    "train_object['reg_preference_for_trad'] = train_object['reg_preference_for_trad'].fillna(train_object['reg_preference_for_trad'].mode()[0])\n",
    "# 转换成数字\n",
    "train_object['reg_preference_for_trad'] = train_object['reg_preference_for_trad'].map({'一线城市': 0, '二线城市': 1,'三线城市': 2,  '其他城市': 3, '境外': 4})\n",
    "# one-hot编码\n",
    "train_object = pd.get_dummies(train_object,columns=[\"reg_preference_for_trad\"],prefix=\"reg_preference_for_trad\")"
   ]
  },
  {
   "cell_type": "code",
   "execution_count": 14,
   "metadata": {
    "ExecuteTime": {
     "end_time": "2018-11-22T12:45:05.796487Z",
     "start_time": "2018-11-22T12:45:05.781477Z"
    }
   },
   "outputs": [],
   "source": [
    "# 删除id_name的字段\n",
    "train_object.drop(\"id_name\", inplace=True, axis=1)"
   ]
  },
  {
   "cell_type": "code",
   "execution_count": 15,
   "metadata": {
    "ExecuteTime": {
     "end_time": "2018-11-22T12:45:05.817500Z",
     "start_time": "2018-11-22T12:45:05.798488Z"
    }
   },
   "outputs": [
    {
     "data": {
      "text/html": [
       "<div>\n",
       "<style scoped>\n",
       "    .dataframe tbody tr th:only-of-type {\n",
       "        vertical-align: middle;\n",
       "    }\n",
       "\n",
       "    .dataframe tbody tr th {\n",
       "        vertical-align: top;\n",
       "    }\n",
       "\n",
       "    .dataframe thead th {\n",
       "        text-align: right;\n",
       "    }\n",
       "</style>\n",
       "<table border=\"1\" class=\"dataframe\">\n",
       "  <thead>\n",
       "    <tr style=\"text-align: right;\">\n",
       "      <th></th>\n",
       "      <th>latest_query_time</th>\n",
       "      <th>loans_latest_time</th>\n",
       "      <th>reg_preference_for_trad_0</th>\n",
       "      <th>reg_preference_for_trad_1</th>\n",
       "      <th>reg_preference_for_trad_2</th>\n",
       "      <th>reg_preference_for_trad_3</th>\n",
       "      <th>reg_preference_for_trad_4</th>\n",
       "    </tr>\n",
       "  </thead>\n",
       "  <tbody>\n",
       "    <tr>\n",
       "      <th>0</th>\n",
       "      <td>2018-04-25</td>\n",
       "      <td>2018-04-19</td>\n",
       "      <td>1</td>\n",
       "      <td>0</td>\n",
       "      <td>0</td>\n",
       "      <td>0</td>\n",
       "      <td>0</td>\n",
       "    </tr>\n",
       "    <tr>\n",
       "      <th>1</th>\n",
       "      <td>2018-05-03</td>\n",
       "      <td>2018-05-05</td>\n",
       "      <td>1</td>\n",
       "      <td>0</td>\n",
       "      <td>0</td>\n",
       "      <td>0</td>\n",
       "      <td>0</td>\n",
       "    </tr>\n",
       "  </tbody>\n",
       "</table>\n",
       "</div>"
      ],
      "text/plain": [
       "  latest_query_time loans_latest_time  reg_preference_for_trad_0  reg_preference_for_trad_1  reg_preference_for_trad_2  reg_preference_for_trad_3  reg_preference_for_trad_4\n",
       "0        2018-04-25        2018-04-19                          1                          0                          0                          0                          0\n",
       "1        2018-05-03        2018-05-05                          1                          0                          0                          0                          0"
      ]
     },
     "execution_count": 15,
     "metadata": {},
     "output_type": "execute_result"
    }
   ],
   "source": [
    "train_object.head(2)"
   ]
  },
  {
   "cell_type": "markdown",
   "metadata": {},
   "source": [
    "## 2.4 日期/时间型特征\n",
    "1. 取出日期，可分别构建如 年、月、日、工作日、周数 等；\n",
    "2. 如有时间，可分别构建如 小时、分钟 等；\n",
    "3. 两两日期或时间可根据业务知识相互做差，求出相差天数，小时数等"
   ]
  },
  {
   "cell_type": "code",
   "execution_count": 16,
   "metadata": {
    "ExecuteTime": {
     "end_time": "2018-11-22T12:45:05.846520Z",
     "start_time": "2018-11-22T12:45:05.819502Z"
    }
   },
   "outputs": [],
   "source": [
    "# 问题4：有没有更好的方法直接转换？\n",
    "date_temp = pd.DataFrame()\n",
    "date_temp['latest_query_time_year'] = pd.to_datetime(train_object['latest_query_time']).dt.year\n",
    "date_temp['latest_query_time_month'] = pd.to_datetime(train_object['latest_query_time']).dt.month\n",
    "date_temp['latest_query_time_day'] = pd.to_datetime(train_object['latest_query_time']).dt.day\n",
    "date_temp['loans_latest_time_year'] = pd.to_datetime(train_object['loans_latest_time']).dt.year\n",
    "date_temp['loans_latest_time_month'] = pd.to_datetime(train_object['loans_latest_time']).dt.month\n",
    "date_temp['loans_latest_time_day'] = pd.to_datetime(train_object['loans_latest_time']).dt.day\n",
    "date_temp.fillna(date_temp.median(), inplace=True)  # 使用中位数填充缺失值"
   ]
  },
  {
   "cell_type": "code",
   "execution_count": 17,
   "metadata": {
    "ExecuteTime": {
     "end_time": "2018-11-22T12:45:05.851523Z",
     "start_time": "2018-11-22T12:45:05.847520Z"
    }
   },
   "outputs": [],
   "source": [
    "# 删除 latest_query_time 和 latest_query_time\n",
    "train_object.drop([\"latest_query_time\",\"loans_latest_time\"], inplace=True, axis=1)"
   ]
  },
  {
   "cell_type": "markdown",
   "metadata": {},
   "source": [
    "## 2.5 数值特征"
   ]
  },
  {
   "cell_type": "code",
   "execution_count": 18,
   "metadata": {
    "ExecuteTime": {
     "end_time": "2018-11-22T12:45:05.871537Z",
     "start_time": "2018-11-22T12:45:05.853525Z"
    }
   },
   "outputs": [],
   "source": [
    "train_num = train.select_dtypes('number').copy()\n",
    "# train_num.info()"
   ]
  },
  {
   "cell_type": "code",
   "execution_count": 30,
   "metadata": {
    "ExecuteTime": {
     "end_time": "2018-11-22T13:03:38.600679Z",
     "start_time": "2018-11-22T13:03:38.595675Z"
    }
   },
   "outputs": [
    {
     "data": {
      "text/plain": [
       "['low_volume_percent',\n",
       " 'middle_volume_percent',\n",
       " 'take_amount_in_later_12_month_highest',\n",
       " 'trans_amount_increase_rate_lately',\n",
       " 'trans_activity_month',\n",
       " 'trans_activity_day',\n",
       " 'transd_mcc',\n",
       " 'trans_days_interval_filter',\n",
       " 'trans_days_interval',\n",
       " 'regional_mobility',\n",
       " 'student_feature',\n",
       " 'repayment_capability',\n",
       " 'is_high_user',\n",
       " 'number_of_trans_from_2011',\n",
       " 'first_transaction_time',\n",
       " 'historical_trans_amount',\n",
       " 'historical_trans_day',\n",
       " 'rank_trad_1_month',\n",
       " 'trans_amount_3_month',\n",
       " 'avg_consume_less_12_valid_month',\n",
       " 'abs',\n",
       " 'top_trans_count_last_1_month',\n",
       " 'avg_price_last_12_month',\n",
       " 'avg_price_top_last_12_valid_month',\n",
       " 'trans_top_time_last_1_month',\n",
       " 'trans_top_time_last_6_month',\n",
       " 'consume_top_time_last_1_month',\n",
       " 'consume_top_time_last_6_month',\n",
       " 'cross_consume_count_last_1_month',\n",
       " 'trans_fail_top_count_enum_last_1_month',\n",
       " 'trans_fail_top_count_enum_last_6_month',\n",
       " 'trans_fail_top_count_enum_last_12_month',\n",
       " 'consume_mini_time_last_1_month',\n",
       " 'max_cumulative_consume_later_1_month',\n",
       " 'max_consume_count_later_6_month',\n",
       " 'railway_consume_count_last_12_month',\n",
       " 'pawns_auctions_trusts_consume_last_1_month',\n",
       " 'pawns_auctions_trusts_consume_last_6_month',\n",
       " 'jewelry_consume_count_last_6_month',\n",
       " 'status',\n",
       " 'first_transaction_day',\n",
       " 'trans_day_last_12_month',\n",
       " 'apply_score',\n",
       " 'apply_credibility',\n",
       " 'query_org_count',\n",
       " 'query_finance_count',\n",
       " 'query_cash_count',\n",
       " 'query_sum_count',\n",
       " 'latest_one_month_apply',\n",
       " 'latest_three_month_apply',\n",
       " 'latest_six_month_apply',\n",
       " 'loans_score',\n",
       " 'loans_credibility_behavior',\n",
       " 'loans_count',\n",
       " 'loans_settle_count',\n",
       " 'loans_overdue_count',\n",
       " 'loans_org_count_behavior',\n",
       " 'consfin_org_count_behavior',\n",
       " 'loans_cash_count',\n",
       " 'latest_one_month_loan',\n",
       " 'latest_three_month_loan',\n",
       " 'latest_six_month_loan',\n",
       " 'history_suc_fee',\n",
       " 'history_fail_fee',\n",
       " 'latest_one_month_suc',\n",
       " 'latest_one_month_fail',\n",
       " 'loans_long_time',\n",
       " 'loans_credit_limit',\n",
       " 'loans_credibility_limit',\n",
       " 'loans_org_count_current',\n",
       " 'loans_product_count',\n",
       " 'loans_max_limit',\n",
       " 'loans_avg_limit',\n",
       " 'consfin_credit_limit',\n",
       " 'consfin_credibility',\n",
       " 'consfin_org_count_current',\n",
       " 'consfin_product_count',\n",
       " 'consfin_max_limit',\n",
       " 'consfin_avg_limit',\n",
       " 'latest_query_day',\n",
       " 'loans_latest_day']"
      ]
     },
     "execution_count": 30,
     "metadata": {},
     "output_type": "execute_result"
    }
   ],
   "source": [
    "train_num.columns.tolist()"
   ]
  },
  {
   "cell_type": "markdown",
   "metadata": {},
   "source": [
    "制图函数 - 特征对结果的影响"
   ]
  },
  {
   "cell_type": "code",
   "execution_count": 19,
   "metadata": {
    "ExecuteTime": {
     "end_time": "2018-11-22T12:45:05.881542Z",
     "start_time": "2018-11-22T12:45:05.873539Z"
    }
   },
   "outputs": [],
   "source": [
    "# 参考文章：\n",
    "# https://zhuanlan.zhihu.com/p/33733586\n",
    "# https://www.cnblogs.com/jin-liang/p/9011771.html\n",
    "# https://blog.csdn.net/Jinlong_Xu/article/details/79769730\n",
    "# https://www.jianshu.com/p/4b925654f506\n",
    "\n",
    "import matplotlib.pyplot as plt\n",
    "\n",
    "result = \"status\"\n",
    "def sns_violinplot(train, feature, y_result=result):\n",
    "    \"\"\" 类别特征对应的特征分布 - 提琴图 \"\"\"\n",
    "    sns.violinplot(x=y_result, y=feature, data=train)"
   ]
  },
  {
   "cell_type": "code",
   "execution_count": 20,
   "metadata": {
    "ExecuteTime": {
     "end_time": "2018-11-22T12:45:06.043660Z",
     "start_time": "2018-11-22T12:45:05.883544Z"
    }
   },
   "outputs": [
    {
     "data": {
      "image/png": "[encoded data removed]",
      "text/plain": [
       "<matplotlib.figure.Figure at 0x2d4b186c748>"
      ]
     },
     "metadata": {
      "needs_background": "light"
     },
     "output_type": "display_data"
    }
   ],
   "source": [
    "# 问题2：如何在一个for循环里面制作所有的提琴图\n",
    "# 问题3：各种图形分析\n",
    "sns_violinplot(train_num, \"consfin_avg_limit\")"
   ]
  },
  {
   "cell_type": "markdown",
   "metadata": {},
   "source": [
    "确认缺失值的情况"
   ]
  },
  {
   "cell_type": "code",
   "execution_count": 21,
   "metadata": {
    "ExecuteTime": {
     "end_time": "2018-11-22T12:45:06.141714Z",
     "start_time": "2018-11-22T12:45:06.046652Z"
    }
   },
   "outputs": [
    {
     "data": {
      "text/plain": [
       "avg_price_last_12_month                        0.000000\n",
       "trans_amount_3_month                           0.000000\n",
       "take_amount_in_later_12_month_highest          0.000000\n",
       "status                                         0.000000\n",
       "pawns_auctions_trusts_consume_last_6_month     0.000000\n",
       "pawns_auctions_trusts_consume_last_1_month     0.000000\n",
       "max_cumulative_consume_later_1_month           0.000000\n",
       "historical_trans_amount                        0.000000\n",
       "is_high_user                                   0.000000\n",
       "abs                                            0.000000\n",
       "repayment_capability                           0.000000\n",
       "avg_consume_less_12_valid_month                0.042070\n",
       "low_volume_percent                             0.042070\n",
       "reg_preference_for_trad                        0.042070\n",
       "first_transaction_day                          0.042070\n",
       "top_trans_count_last_1_month                   0.042070\n",
       "rank_trad_1_month                              0.042070\n",
       "trans_day_last_12_month                        0.042070\n",
       "first_transaction_time                         0.042070\n",
       "trans_activity_day                             0.042070\n",
       "trans_activity_month                           0.042070\n",
       "middle_volume_percent                          0.042070\n",
       "transd_mcc                                     0.042070\n",
       "regional_mobility                              0.042070\n",
       "historical_trans_day                           0.042070\n",
       "number_of_trans_from_2011                      0.042070\n",
       "trans_days_interval                            0.042070\n",
       "trans_amount_increase_rate_lately              0.063105\n",
       "trans_days_interval_filter                     0.168279\n",
       "trans_top_time_last_1_month                    0.168279\n",
       "max_consume_count_later_6_month                0.168279\n",
       "consume_top_time_last_1_month                  0.168279\n",
       "consume_top_time_last_6_month                  0.168279\n",
       "trans_top_time_last_6_month                    0.168279\n",
       "railway_consume_count_last_12_month            0.252419\n",
       "jewelry_consume_count_last_6_month             0.252419\n",
       "trans_fail_top_count_enum_last_12_month        0.336559\n",
       "trans_fail_top_count_enum_last_6_month         0.336559\n",
       "trans_fail_top_count_enum_last_1_month         0.336559\n",
       "consume_mini_time_last_1_month                 0.546908\n",
       "avg_price_top_last_12_valid_month              2.187631\n",
       "id_name                                        5.805637\n",
       "history_suc_fee                                6.247371\n",
       "history_fail_fee                               6.247371\n",
       "latest_one_month_suc                           6.247371\n",
       "latest_one_month_fail                          6.247371\n",
       "loans_long_time                                6.247371\n",
       "loans_latest_time                              6.247371\n",
       "loans_credit_limit                             6.247371\n",
       "loans_credibility_limit                        6.247371\n",
       "consfin_avg_limit                              6.247371\n",
       "loans_max_limit                                6.247371\n",
       "loans_product_count                            6.247371\n",
       "loans_avg_limit                                6.247371\n",
       "consfin_credit_limit                           6.247371\n",
       "consfin_credibility                            6.247371\n",
       "consfin_org_count_current                      6.247371\n",
       "consfin_product_count                          6.247371\n",
       "consfin_max_limit                              6.247371\n",
       "latest_six_month_loan                          6.247371\n",
       "loans_org_count_current                        6.247371\n",
       "latest_three_month_loan                        6.247371\n",
       "loans_latest_day                               6.247371\n",
       "loans_cash_count                               6.247371\n",
       "consfin_org_count_behavior                     6.247371\n",
       "loans_org_count_behavior                       6.247371\n",
       "loans_overdue_count                            6.247371\n",
       "loans_settle_count                             6.247371\n",
       "loans_count                                    6.247371\n",
       "loans_credibility_behavior                     6.247371\n",
       "loans_score                                    6.247371\n",
       "latest_one_month_loan                          6.247371\n",
       "latest_query_day                               6.394615\n",
       "apply_score                                    6.394615\n",
       "apply_credibility                              6.394615\n",
       "query_org_count                                6.394615\n",
       "latest_query_time                              6.394615\n",
       "query_cash_count                               6.394615\n",
       "query_sum_count                                6.394615\n",
       "latest_three_month_apply                       6.394615\n",
       "latest_six_month_apply                         6.394615\n",
       "query_finance_count                            6.394615\n",
       "latest_one_month_apply                         6.394615\n",
       "cross_consume_count_last_1_month               8.960875\n",
       "student_feature                               63.062684\n",
       "dtype: float64"
      ]
     },
     "execution_count": 21,
     "metadata": {},
     "output_type": "execute_result"
    }
   ],
   "source": [
    "train.isnull().sum().sort_values() / len(train) * 100"
   ]
  },
  {
   "cell_type": "markdown",
   "metadata": {},
   "source": [
    "不难发现除了 student_feature 缺失值在 63% 以外，其余的都不是非常多，这里使用平均值来补充\n",
    "1. student_feature：使用0来填充\n",
    "2. other：使用均值来补充"
   ]
  },
  {
   "cell_type": "code",
   "execution_count": 22,
   "metadata": {
    "ExecuteTime": {
     "end_time": "2018-11-22T12:45:06.147719Z",
     "start_time": "2018-11-22T12:45:06.143719Z"
    }
   },
   "outputs": [],
   "source": [
    "train_num.fillna({'student_feature': 0}, inplace=True)"
   ]
  },
  {
   "cell_type": "code",
   "execution_count": 23,
   "metadata": {
    "ExecuteTime": {
     "end_time": "2018-11-22T12:45:06.256790Z",
     "start_time": "2018-11-22T12:45:06.149736Z"
    }
   },
   "outputs": [],
   "source": [
    "train_num.fillna(train_num.mode(), inplace=True) # 众数\n",
    "# train_num.fillna(train_num.mean(), inplace=True) # 均值\n",
    "# train_num.fillna(train_num.median(), inplace=True) # 中位数"
   ]
  },
  {
   "cell_type": "markdown",
   "metadata": {},
   "source": [
    "## 2.6 列数据合并"
   ]
  },
  {
   "cell_type": "code",
   "execution_count": 25,
   "metadata": {
    "ExecuteTime": {
     "end_time": "2018-11-22T12:45:22.222116Z",
     "start_time": "2018-11-22T12:45:22.214111Z"
    }
   },
   "outputs": [],
   "source": [
    "x_train = pd.concat([train_num, date_temp, train_object], axis=1)"
   ]
  },
  {
   "cell_type": "code",
   "execution_count": 28,
   "metadata": {
    "ExecuteTime": {
     "end_time": "2018-11-22T12:45:45.984180Z",
     "start_time": "2018-11-22T12:45:45.980177Z"
    }
   },
   "outputs": [
    {
     "data": {
      "text/plain": [
       "(4754, 92)"
      ]
     },
     "execution_count": 28,
     "metadata": {},
     "output_type": "execute_result"
    }
   ],
   "source": [
    "x_train.shape"
   ]
  }
 ],
 "metadata": {
  "kernelspec": {
   "display_name": "Python 3",
   "language": "python",
   "name": "python3"
  },
  "language_info": {
   "codemirror_mode": {
    "name": "ipython",
    "version": 3
   },
   "file_extension": ".py",
   "mimetype": "text/x-python",
   "name": "python",
   "nbconvert_exporter": "python",
   "pygments_lexer": "ipython3",
   "version": "3.6.4"
  },
  "latex_envs": {
   "LaTeX_envs_menu_present": true,
   "autoclose": false,
   "autocomplete": true,
   "bibliofile": "biblio.bib",
   "cite_by": "apalike",
   "current_citInitial": 1,
   "eqLabelWithNumbers": true,
   "eqNumInitial": 1,
   "hotkeys": {
    "equation": "Ctrl-E",
    "itemize": "Ctrl-I"
   },
   "labels_anchors": false,
   "latex_user_defs": false,
   "report_style_numbering": false,
   "user_envs_cfg": false
  }
 },
 "nbformat": 4,
 "nbformat_minor": 2
}
